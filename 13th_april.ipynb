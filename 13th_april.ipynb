{
  "nbformat": 4,
  "nbformat_minor": 0,
  "metadata": {
    "colab": {
      "provenance": []
    },
    "kernelspec": {
      "name": "python3",
      "display_name": "Python 3"
    },
    "language_info": {
      "name": "python"
    }
  },
  "cells": [
    {
      "cell_type": "code",
      "execution_count": null,
      "metadata": {
        "id": "tyATImjWxrWH"
      },
      "outputs": [],
      "source": [
        "#Inheritance\n",
        "#Decorators\n",
        "#Numpy"
      ]
    },
    {
      "cell_type": "code",
      "source": [
        "#Single inheritance"
      ],
      "metadata": {
        "id": "DUodgoxxxsoZ"
      },
      "execution_count": null,
      "outputs": []
    },
    {
      "cell_type": "code",
      "source": [
        "class father:\n",
        "  def flat(self):\n",
        "    print(\"father's flat\")\n",
        "class son(father):\n",
        "  def house(self):\n",
        "    print(\"son's house\")\n",
        "s = son()\n",
        "s.flat()\n",
        "s.house()"
      ],
      "metadata": {
        "colab": {
          "base_uri": "https://localhost:8080/"
        },
        "id": "VsBSm-I9xstt",
        "outputId": "a4dfe52c-669d-4234-b29a-912f8fa5fbf6"
      },
      "execution_count": 1,
      "outputs": [
        {
          "output_type": "stream",
          "name": "stdout",
          "text": [
            "father's flat\n",
            "son's house\n"
          ]
        }
      ]
    },
    {
      "cell_type": "code",
      "source": [
        "#Multiple inheritance\n",
        "class father:\n",
        "  def flat(self):\n",
        "    print(\"father's flat\")\n",
        "\n",
        "class mother:\n",
        "  def car(self):\n",
        "    print(\"mother's car\")\n",
        "\n",
        "class son(father, mother):\n",
        "  def house(self):\n",
        "    print(\"son's house\")\n",
        "\n",
        "s = son()\n",
        "s.flat()\n",
        "s.house()\n",
        "s.car()\n"
      ],
      "metadata": {
        "colab": {
          "base_uri": "https://localhost:8080/"
        },
        "id": "Hq1-1cblxswq",
        "outputId": "7cfd1c43-ab35-4ecd-c40a-3a6ad06860e1"
      },
      "execution_count": 2,
      "outputs": [
        {
          "output_type": "stream",
          "name": "stdout",
          "text": [
            "father's flat\n",
            "son's house\n",
            "mother's car\n"
          ]
        }
      ]
    },
    {
      "cell_type": "code",
      "source": [
        "# Multilevel inheritance\n",
        "class Grandfather:\n",
        "  def grand_property(self):\n",
        "    print(\"Grandfather's property\")\n",
        "\n",
        "class Father(Grandfather):\n",
        "  def father_property(self):\n",
        "    print(\"Father's property\")\n",
        "\n",
        "class Son(Father):\n",
        "  def son_property(self):\n",
        "    print(\"Son's property\")\n",
        "\n",
        "s = Son()\n",
        "s.grand_property()\n",
        "s.father_property()\n",
        "s.son_property()\n"
      ],
      "metadata": {
        "colab": {
          "base_uri": "https://localhost:8080/"
        },
        "id": "sRXzBoYmxszY",
        "outputId": "aace081a-0e2b-4485-8f43-1f4a47e5a434"
      },
      "execution_count": 3,
      "outputs": [
        {
          "output_type": "stream",
          "name": "stdout",
          "text": [
            "Grandfather's property\n",
            "Father's property\n",
            "Son's property\n"
          ]
        }
      ]
    },
    {
      "cell_type": "code",
      "source": [
        "#Hierarchical Inheritance\n",
        "class Father:\n",
        "  def flat1(self):\n",
        "    print(\"Father's flat1\")\n",
        "\n",
        "class Son1(Father):\n",
        "  def house1(self):\n",
        "    print(\"Son's house1\")\n",
        "\n",
        "class Son2(Father):\n",
        "  def house2(self):\n",
        "    print(\"Son's house2\")\n",
        "\n",
        "s1 = Son1()\n",
        "s2 = Son2()\n",
        "s1.flat1()\n",
        "s1.house1()\n",
        "s2.flat1()\n",
        "s2.house2()"
      ],
      "metadata": {
        "colab": {
          "base_uri": "https://localhost:8080/"
        },
        "id": "bE7yjdifxs7E",
        "outputId": "21e0c0a3-e3dc-47da-e493-655e26a13f6e"
      },
      "execution_count": 4,
      "outputs": [
        {
          "output_type": "stream",
          "name": "stdout",
          "text": [
            "Father's flat1\n",
            "Son's house1\n",
            "Father's flat1\n",
            "Son's house2\n"
          ]
        }
      ]
    },
    {
      "cell_type": "code",
      "source": [
        "#Polymorphism"
      ],
      "metadata": {
        "id": "SCfpzNsCxs9q"
      },
      "execution_count": null,
      "outputs": []
    },
    {
      "cell_type": "code",
      "source": [
        "print(100 + 200) # \"+\" is working as an addition operator\n",
        "print(\"Hello \" + \"World\") # \"+\" is working as a concatenation operator\n",
        "#so \"+\" operator is working as an polymorphism"
      ],
      "metadata": {
        "colab": {
          "base_uri": "https://localhost:8080/"
        },
        "id": "lyUCFjO2xtC3",
        "outputId": "8482b989-62b6-49c2-e0f6-d68cc5875faf"
      },
      "execution_count": 6,
      "outputs": [
        {
          "output_type": "stream",
          "name": "stdout",
          "text": [
            "300\n",
            "Hello World\n"
          ]
        }
      ]
    },
    {
      "cell_type": "code",
      "source": [
        "#Encapsulaation"
      ],
      "metadata": {
        "id": "5B9hwnrGxtFt"
      },
      "execution_count": null,
      "outputs": []
    },
    {
      "cell_type": "code",
      "source": [
        "class Bank:\n",
        "  def __init__(self, balance):\n",
        "    self.__balance = balance\n",
        "  def deposit(self, amount):\n",
        "    self.__balance += amount\n",
        "  def get_balance(self):\n",
        "      return self.__balance\n",
        "\n",
        "b = Bank(1000)\n",
        "b.deposit(500)\n",
        "print(b.get_balance())\n",
        "print(b.__balance)"
      ],
      "metadata": {
        "colab": {
          "base_uri": "https://localhost:8080/",
          "height": 193
        },
        "id": "Epn6kEXb2XaW",
        "outputId": "6ac3d519-e5b1-4427-9672-872bf7c63ff6"
      },
      "execution_count": 8,
      "outputs": [
        {
          "output_type": "stream",
          "name": "stdout",
          "text": [
            "1500\n"
          ]
        },
        {
          "output_type": "error",
          "ename": "AttributeError",
          "evalue": "'Bank' object has no attribute '__balance'",
          "traceback": [
            "\u001b[0;31m---------------------------------------------------------------------------\u001b[0m",
            "\u001b[0;31mAttributeError\u001b[0m                            Traceback (most recent call last)",
            "\u001b[0;32m<ipython-input-8-0c4775768523>\u001b[0m in \u001b[0;36m<cell line: 0>\u001b[0;34m()\u001b[0m\n\u001b[1;32m     10\u001b[0m \u001b[0mb\u001b[0m\u001b[0;34m.\u001b[0m\u001b[0mdeposit\u001b[0m\u001b[0;34m(\u001b[0m\u001b[0;36m500\u001b[0m\u001b[0;34m)\u001b[0m\u001b[0;34m\u001b[0m\u001b[0;34m\u001b[0m\u001b[0m\n\u001b[1;32m     11\u001b[0m \u001b[0mprint\u001b[0m\u001b[0;34m(\u001b[0m\u001b[0mb\u001b[0m\u001b[0;34m.\u001b[0m\u001b[0mget_balance\u001b[0m\u001b[0;34m(\u001b[0m\u001b[0;34m)\u001b[0m\u001b[0;34m)\u001b[0m\u001b[0;34m\u001b[0m\u001b[0;34m\u001b[0m\u001b[0m\n\u001b[0;32m---> 12\u001b[0;31m \u001b[0mprint\u001b[0m\u001b[0;34m(\u001b[0m\u001b[0mb\u001b[0m\u001b[0;34m.\u001b[0m\u001b[0m__balance\u001b[0m\u001b[0;34m)\u001b[0m\u001b[0;34m\u001b[0m\u001b[0;34m\u001b[0m\u001b[0m\n\u001b[0m",
            "\u001b[0;31mAttributeError\u001b[0m: 'Bank' object has no attribute '__balance'"
          ]
        }
      ]
    },
    {
      "cell_type": "code",
      "source": [
        "#Abstraction"
      ],
      "metadata": {
        "id": "nB6bWMLX2Xft"
      },
      "execution_count": null,
      "outputs": []
    },
    {
      "cell_type": "code",
      "source": [
        "from abc import ABC , abstractmethod # Abstract base class\n",
        "\n",
        "class Paymentprocessor(ABC): # Paymentprocessor is an abstract classs because it inherits from ABC\n",
        "  @abstractmethod\n",
        "  def payment(self, amount):\n",
        "     pass\n",
        "class Creditcard(Paymentprocessor):\n",
        "  def payment(self, amount):\n",
        "    print(f\"Credit card payment of {amount}\")\n",
        "\n",
        "class UPI(Paymentprocessor):\n",
        "  def payment(self, amount):\n",
        "    print(f\"UPI payment of {amount}\")\n",
        "\n",
        "txn = Creditcard()\n",
        "txn.payment(1000)\n",
        "txn = UPI()\n",
        "txn.payment(1000)\n",
        ""
      ],
      "metadata": {
        "colab": {
          "base_uri": "https://localhost:8080/"
        },
        "id": "anuFQ-wy2Xlq",
        "outputId": "f1ed7a21-a32b-4e99-c18f-cce52112df0d"
      },
      "execution_count": 10,
      "outputs": [
        {
          "output_type": "stream",
          "name": "stdout",
          "text": [
            "Credit card payment of 1000\n",
            "UPI payment of 1000\n"
          ]
        }
      ]
    },
    {
      "cell_type": "code",
      "source": [
        "#Iterator\n",
        "#An iterator is an object in python that allows sequential traversal over a collection like a list , tuple ,string , etc... , without needing an index."
      ],
      "metadata": {
        "id": "CGtNNgP92Xo6"
      },
      "execution_count": null,
      "outputs": []
    },
    {
      "cell_type": "code",
      "source": [
        "#Iterable vs Iterator\n",
        "# Iterable - Any object that you can that you can loop (like a list or string)\n",
        "# Iterator - An object with __next__() method that returns data one item at a time\n"
      ],
      "metadata": {
        "id": "dZhEfrNP2Xuf"
      },
      "execution_count": null,
      "outputs": []
    },
    {
      "cell_type": "code",
      "source": [
        "#Genrator\n",
        "#by writing a class with the yeild keyword\n",
        "#more memory-efficient by nature\n",
        "#use for fast, simple sequence generation"
      ],
      "metadata": {
        "id": "a8oPkUI-2Xye"
      },
      "execution_count": null,
      "outputs": []
    },
    {
      "cell_type": "markdown",
      "source": [
        "#Numpy"
      ],
      "metadata": {
        "id": "HuqKNXzqIiQ6"
      }
    },
    {
      "cell_type": "code",
      "source": [
        "#Numpy\n",
        "#Numpy is the backbome of ML and DS\n",
        "#It is one of the most imp libraries in pyhton for numerical cumputing\n",
        "#NUM- Numerical\n",
        "#py- python\n",
        "#numpy stores the data in an array\n",
        "#An array is collection of items of same data type with conitinuos memory location\n",
        "#Numpy consist of two main part\n",
        "#1. ndarray - numpy array\n",
        "#2. ufunc - universal functio"
      ],
      "metadata": {
        "id": "Mz5iVpW62X1O"
      },
      "execution_count": null,
      "outputs": []
    },
    {
      "cell_type": "code",
      "source": [
        "import numpy as np\n",
        "print(np.__version__)"
      ],
      "metadata": {
        "colab": {
          "base_uri": "https://localhost:8080/"
        },
        "id": "kN3DsHDC2X4L",
        "outputId": "cdb22b8d-e478-4569-f4a7-0c5f4bc523ca"
      },
      "execution_count": 11,
      "outputs": [
        {
          "output_type": "stream",
          "name": "stdout",
          "text": [
            "2.0.2\n"
          ]
        }
      ]
    },
    {
      "cell_type": "code",
      "source": [
        "#ndarray\n",
        "#Syntax\n",
        "#np.array(data , dtype)\n",
        "#data - A list of tuple of numbers\n",
        "#dtype - Data type of the array (optional)\n",
        "\n",
        "a = np.array([10,20,30,40,50])\n",
        "print(a)\n",
        "print(type(a))\n",
        "print(a.dtype)"
      ],
      "metadata": {
        "colab": {
          "base_uri": "https://localhost:8080/"
        },
        "id": "rMHZWNBI2X7I",
        "outputId": "436fc41f-a77c-4c90-ff8a-73b4d42ccd47"
      },
      "execution_count": 14,
      "outputs": [
        {
          "output_type": "stream",
          "name": "stdout",
          "text": [
            "[10 20 30 40 50]\n",
            "<class 'numpy.ndarray'>\n",
            "int64\n"
          ]
        }
      ]
    },
    {
      "cell_type": "code",
      "source": [
        "\n",
        "a = np.array([10,20,30.5,40,50])\n",
        "print(a)\n",
        "print(type(a))\n",
        "print(a.dtype)"
      ],
      "metadata": {
        "colab": {
          "base_uri": "https://localhost:8080/"
        },
        "id": "LH7BHAvn2X-P",
        "outputId": "c98e7a5c-2a3f-413e-8454-e881e53d07fb"
      },
      "execution_count": 15,
      "outputs": [
        {
          "output_type": "stream",
          "name": "stdout",
          "text": [
            "[10.  20.  30.5 40.  50. ]\n",
            "<class 'numpy.ndarray'>\n",
            "float64\n"
          ]
        }
      ]
    },
    {
      "cell_type": "code",
      "source": [
        "\n",
        "a = np.array([10,20,30,40,50])\n",
        "print(a)\n",
        "print(type(a))\n",
        "print(a.dtype)"
      ],
      "metadata": {
        "colab": {
          "base_uri": "https://localhost:8080/"
        },
        "id": "wRY4kBp52YA-",
        "outputId": "eafc7bfb-4991-4153-93a9-f72df62a76fc"
      },
      "execution_count": 20,
      "outputs": [
        {
          "output_type": "stream",
          "name": "stdout",
          "text": [
            "[10 20 30 40 50]\n",
            "<class 'numpy.ndarray'>\n",
            "int64\n"
          ]
        }
      ]
    },
    {
      "cell_type": "code",
      "source": [
        "#Basic Functions of Numpy\n",
        "print(np.sum(a)) #sum of all elements\n",
        "print(np.min(a)) #min of all elements\n",
        "print(np.max(a)) #max of all elements\n",
        "print(np.mean(a)) #mean of all elements\n",
        "print(np.median(a)) #median of all elements\n",
        "print(np.std(a)) #standard deviation of all elements\n",
        "print(np.var(a)) #variance of all elements\n",
        "print(np.sort(a)) #sorting of all elements\n",
        "print(np.argsort(a)) #sorting of all elements\n",
        "print(np.argmin(a)) #sorting of all elements\n",
        "print(np.argmax(a)) #sorting of all elements\n",
        "print(np.unique(a)) #sorting of all elements\n"
      ],
      "metadata": {
        "colab": {
          "base_uri": "https://localhost:8080/"
        },
        "id": "imrxxwpd2YD2",
        "outputId": "fe02e5a2-1a0a-4790-c5f8-c25b5dba9a56"
      },
      "execution_count": 24,
      "outputs": [
        {
          "output_type": "stream",
          "name": "stdout",
          "text": [
            "150\n",
            "10\n",
            "50\n",
            "30.0\n",
            "30.0\n",
            "14.142135623730951\n",
            "200.0\n",
            "[10 20 30 40 50]\n",
            "[0 1 2 3 4]\n",
            "0\n",
            "4\n",
            "[10 20 30 40 50]\n"
          ]
        }
      ]
    },
    {
      "cell_type": "code",
      "source": [
        "#Indexing and slicing in a Numpy array is exactly same as in list\n",
        "print(a[1])  #first element\n",
        "print(a[0:3]) #first three elements\n",
        "print(a[-1]) #last element\n",
        "print(a[-3:]) #last three elements\n"
      ],
      "metadata": {
        "colab": {
          "base_uri": "https://localhost:8080/"
        },
        "id": "GgkCuoEY2YGT",
        "outputId": "d518d0c7-cbea-43f5-e15f-c7fbb49d88a9"
      },
      "execution_count": 28,
      "outputs": [
        {
          "output_type": "stream",
          "name": "stdout",
          "text": [
            "20\n",
            "[10 20 30]\n",
            "50\n",
            "[30 40 50]\n"
          ]
        }
      ]
    },
    {
      "cell_type": "code",
      "source": [
        "a = np.array([[10,20,30],[40,50,60],[70,80,90]])\n",
        "print(np.sum(a))\n",
        "print(np.min(a))\n",
        "print(np.max(a))\n",
        "print(np.mean(a))\n",
        "print(np.median(a))\n",
        "print(np.std(a))\n",
        "print(np.var(a))\n",
        "print(np.sort(a))\n",
        "print(np.argsort(a))\n",
        "print(np.argmin(a))\n",
        "print(np.argmax(a))\n",
        "print(np.unique(a))\n"
      ],
      "metadata": {
        "colab": {
          "base_uri": "https://localhost:8080/"
        },
        "id": "uGrvVqE42YLJ",
        "outputId": "8cdce717-ec4e-4eef-c46f-819cc3ed0b0d"
      },
      "execution_count": 31,
      "outputs": [
        {
          "output_type": "stream",
          "name": "stdout",
          "text": [
            "450\n",
            "10\n",
            "90\n",
            "50.0\n",
            "50.0\n",
            "25.81988897471611\n",
            "666.6666666666666\n",
            "[[10 20 30]\n",
            " [40 50 60]\n",
            " [70 80 90]]\n",
            "[[0 1 2]\n",
            " [0 1 2]\n",
            " [0 1 2]]\n",
            "0\n",
            "8\n",
            "[10 20 30 40 50 60 70 80 90]\n"
          ]
        }
      ]
    },
    {
      "cell_type": "code",
      "source": [
        "np.linalg.det(a) #Determinant fo matrix a"
      ],
      "metadata": {
        "colab": {
          "base_uri": "https://localhost:8080/"
        },
        "id": "M_TjLEbDNo1H",
        "outputId": "d10ea32a-3b92-481e-8bd2-0addb4213a6b"
      },
      "execution_count": 32,
      "outputs": [
        {
          "output_type": "execute_result",
          "data": {
            "text/plain": [
              "np.float64(-4.263256414560599e-12)"
            ]
          },
          "metadata": {},
          "execution_count": 32
        }
      ]
    },
    {
      "cell_type": "code",
      "source": [
        "np.linspace(0, 10 ,5) # it will create an array of 5 elements btw 0 and 10"
      ],
      "metadata": {
        "colab": {
          "base_uri": "https://localhost:8080/"
        },
        "id": "KI6pLQzcNo4G",
        "outputId": "3569eb99-bb44-40f2-aa55-1baa4ebb0177"
      },
      "execution_count": 34,
      "outputs": [
        {
          "output_type": "execute_result",
          "data": {
            "text/plain": [
              "array([ 0. ,  2.5,  5. ,  7.5, 10. ])"
            ]
          },
          "metadata": {},
          "execution_count": 34
        }
      ]
    },
    {
      "cell_type": "code",
      "source": [
        "print(np.zeros((3,4))) # 3rows and 4 columns"
      ],
      "metadata": {
        "colab": {
          "base_uri": "https://localhost:8080/"
        },
        "id": "5MueshvRNo6_",
        "outputId": "592c78d4-e1c4-4b65-81ab-3e3800814ebb"
      },
      "execution_count": 35,
      "outputs": [
        {
          "output_type": "stream",
          "name": "stdout",
          "text": [
            "[[0. 0. 0. 0.]\n",
            " [0. 0. 0. 0.]\n",
            " [0. 0. 0. 0.]]\n"
          ]
        }
      ]
    },
    {
      "cell_type": "code",
      "source": [
        "print(np.zeros(6))"
      ],
      "metadata": {
        "colab": {
          "base_uri": "https://localhost:8080/"
        },
        "id": "70d7BBp6No-B",
        "outputId": "1ba02264-929c-4250-ad09-85edb6e8f98b"
      },
      "execution_count": 36,
      "outputs": [
        {
          "output_type": "stream",
          "name": "stdout",
          "text": [
            "[0. 0. 0. 0. 0. 0.]\n"
          ]
        }
      ]
    },
    {
      "cell_type": "code",
      "source": [
        "#Syntax\n",
        "#np.ones(shape, dtype)\n",
        "print(np.ones((3,4,)))\n",
        "#we only have zeros and ones this is bcuz image creation this zeros and ones is used in image"
      ],
      "metadata": {
        "colab": {
          "base_uri": "https://localhost:8080/"
        },
        "id": "tyugcHeRNpBG",
        "outputId": "4ac31656-46e8-4161-8eb8-8e6d942bd865"
      },
      "execution_count": 41,
      "outputs": [
        {
          "output_type": "stream",
          "name": "stdout",
          "text": [
            "[[1. 1. 1. 1.]\n",
            " [1. 1. 1. 1.]\n",
            " [1. 1. 1. 1.]]\n"
          ]
        }
      ]
    },
    {
      "cell_type": "code",
      "source": [
        "np.identity(5, dtype=\"int\") #idnetity matrix"
      ],
      "metadata": {
        "colab": {
          "base_uri": "https://localhost:8080/"
        },
        "id": "wQkD7awXNpEE",
        "outputId": "4e038cbc-4683-4a82-b8b4-0df426055650"
      },
      "execution_count": 38,
      "outputs": [
        {
          "output_type": "execute_result",
          "data": {
            "text/plain": [
              "array([[1, 0, 0, 0, 0],\n",
              "       [0, 1, 0, 0, 0],\n",
              "       [0, 0, 1, 0, 0],\n",
              "       [0, 0, 0, 1, 0],\n",
              "       [0, 0, 0, 0, 1]])"
            ]
          },
          "metadata": {},
          "execution_count": 38
        }
      ]
    },
    {
      "cell_type": "code",
      "source": [
        "# random submodules\n",
        "#funtions and its uses one by one\n",
        "#1. np.random.rnd()\n",
        "#Generates random numbers in the range of [0.0, 1.0]\n",
        "z= print(np.random.rand(3,4))\n"
      ],
      "metadata": {
        "colab": {
          "base_uri": "https://localhost:8080/"
        },
        "id": "NkHzmVdaNpGx",
        "outputId": "a34fe671-0648-4664-fec0-5e49ea700957"
      },
      "execution_count": 46,
      "outputs": [
        {
          "output_type": "stream",
          "name": "stdout",
          "text": [
            "[[0.62520034 0.8239961  0.92268635 0.44584731]\n",
            " [0.95908237 0.01524664 0.96599544 0.21333445]\n",
            " [0.11818564 0.38645675 0.02062966 0.50947434]]\n"
          ]
        }
      ]
    },
    {
      "cell_type": "code",
      "source": [
        "for i in range(5):\n",
        "  print(i)"
      ],
      "metadata": {
        "colab": {
          "base_uri": "https://localhost:8080/"
        },
        "id": "1W0GqVn0R9lH",
        "outputId": "27fc781f-8244-4b72-a7eb-c9daaf5f8ce0"
      },
      "execution_count": 47,
      "outputs": [
        {
          "output_type": "stream",
          "name": "stdout",
          "text": [
            "0\n",
            "1\n",
            "2\n",
            "3\n",
            "4\n"
          ]
        }
      ]
    },
    {
      "cell_type": "code",
      "source": [
        "np.arange(5)  # it store the range in numpy array."
      ],
      "metadata": {
        "colab": {
          "base_uri": "https://localhost:8080/"
        },
        "id": "jy7Uu5xvR9n1",
        "outputId": "777e1e69-1bf1-41c1-e52b-d838442b806a"
      },
      "execution_count": 48,
      "outputs": [
        {
          "output_type": "execute_result",
          "data": {
            "text/plain": [
              "array([0, 1, 2, 3, 4])"
            ]
          },
          "metadata": {},
          "execution_count": 48
        }
      ]
    },
    {
      "cell_type": "code",
      "source": [
        "np.arange(12).reshape(3,4) # this is only work when the multiplication of row and column is equal to the number of elment in array\n"
      ],
      "metadata": {
        "colab": {
          "base_uri": "https://localhost:8080/"
        },
        "id": "SyZA2uY0R9qT",
        "outputId": "cf71a889-d582-4dd5-ddd3-ba447a921281"
      },
      "execution_count": 49,
      "outputs": [
        {
          "output_type": "execute_result",
          "data": {
            "text/plain": [
              "array([[ 0,  1,  2,  3],\n",
              "       [ 4,  5,  6,  7],\n",
              "       [ 8,  9, 10, 11]])"
            ]
          },
          "metadata": {},
          "execution_count": 49
        }
      ]
    },
    {
      "cell_type": "code",
      "source": [
        "# speed of numpy and list\n",
        "# numpy is faster than list because it uses contiguous memory allocation\n",
        "\n",
        "l1 = range(1000000)\n",
        "l2 = range(1000000)\n",
        "a1 = np.arange(1000000)\n",
        "a2 = np.arange(1000000)\n",
        "\n",
        "#list\n",
        "import time\n",
        "start = time.time()\n",
        "result = [(x+y) for x,y in zip(l1,l2)]\n",
        "end = time.time()\n",
        "print(\"Time taken by list: \", (end-start)*1000)\n",
        "\n",
        "#numpy\n",
        "start = time.time()\n",
        "result = a1 + a2\n",
        "end = time.time()\n",
        "print(\"Time taken by numpy: \", (end-start)*1000)"
      ],
      "metadata": {
        "colab": {
          "base_uri": "https://localhost:8080/"
        },
        "id": "KC1rnFgkR9tK",
        "outputId": "7442cd15-b048-4974-ca88-f6bdcb1ed0f1"
      },
      "execution_count": 50,
      "outputs": [
        {
          "output_type": "stream",
          "name": "stdout",
          "text": [
            "Time taken by list:  138.71479034423828\n",
            "Time taken by numpy:  5.859851837158203\n"
          ]
        }
      ]
    },
    {
      "cell_type": "code",
      "source": [],
      "metadata": {
        "id": "Dmcl-SpMR9vn"
      },
      "execution_count": null,
      "outputs": []
    },
    {
      "cell_type": "code",
      "source": [],
      "metadata": {
        "id": "hNf6juBFNpJn"
      },
      "execution_count": null,
      "outputs": []
    },
    {
      "cell_type": "code",
      "source": [],
      "metadata": {
        "id": "6bBlEt5J2YNw"
      },
      "execution_count": null,
      "outputs": []
    },
    {
      "cell_type": "code",
      "source": [],
      "metadata": {
        "id": "z7qV_Wy2xtIc"
      },
      "execution_count": null,
      "outputs": []
    },
    {
      "cell_type": "code",
      "source": [],
      "metadata": {
        "id": "bbaGPMNOxtKd"
      },
      "execution_count": null,
      "outputs": []
    }
  ]
}